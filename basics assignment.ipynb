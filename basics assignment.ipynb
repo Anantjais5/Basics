{
 "cells": [
  {
   "cell_type": "code",
   "execution_count": 1,
   "id": "6990a4c8-0641-468d-b602-afd3366ecf29",
   "metadata": {},
   "outputs": [],
   "source": [
    "#Explain the key features of Python that make it a popular choice for programing?\n",
    "\n",
    "#python is a very famous and high level programing language.\n",
    "\n",
    "#python is easy to code and it is similar too english and maths.\n",
    "\n",
    "#python has large number of stadard libraries.\n",
    "\n",
    "#python is a case senitive language.\n",
    "\n",
    "#python is an open source languages.\n",
    "\n",
    "#python is easy to learn, easy to understand and easy to code.\n",
    "\n",
    "#pyhton syntax are simple.\n",
    "\n"
   ]
  },
  {
   "cell_type": "code",
   "execution_count": 1,
   "id": "75c0af53-fb2c-48e8-b0d0-d3c3fb6648df",
   "metadata": {},
   "outputs": [
    {
     "data": {
      "text/plain": [
       "False"
      ]
     },
     "execution_count": 1,
     "metadata": {},
     "output_type": "execute_result"
    }
   ],
   "source": [
    "# Describe the role of predefined keywrods in Python and provide examples of how they are used in a program.\n",
    "\n",
    "#predefine keywords are reserved words in python.\n",
    "\n",
    "#there are 36 keywords in python.\n",
    "\n",
    "#if,else,and,or,yield,true,false,in,for,from,not etc.\n",
    "\n",
    "a=5\n",
    "b=10\n",
    "a>b\n"
   ]
  },
  {
   "cell_type": "code",
   "execution_count": 2,
   "id": "cab258b3-2503-4200-881c-9645929ccf4b",
   "metadata": {},
   "outputs": [
    {
     "data": {
      "text/plain": [
       "True"
      ]
     },
     "execution_count": 2,
     "metadata": {},
     "output_type": "execute_result"
    }
   ],
   "source": [
    "b>5"
   ]
  },
  {
   "cell_type": "code",
   "execution_count": 17,
   "id": "2ec98a4e-d250-4c52-b2f1-9c6ce4d0bdc6",
   "metadata": {},
   "outputs": [
    {
     "name": "stdout",
     "output_type": "stream",
     "text": [
      " 45000 is greater than 25000\n"
     ]
    }
   ],
   "source": [
    "bank_ballance=45000\n",
    "if bank_ballance>=25000:\n",
    "    print(\" 45000 is greater than 25000\")\n",
    "else:\n",
    "    print(\"45000 is smaller than 25000\")\n"
   ]
  },
  {
   "cell_type": "code",
   "execution_count": 4,
   "id": "b2a8f4b1-b3a5-494c-bbdb-961c3bbf461f",
   "metadata": {},
   "outputs": [],
   "source": [
    "#Compare and contrast mutable and immuutable objects in Python with examples.\n",
    "\n",
    "#mutable objects: are those which can change their values after creation.\n",
    "#mutable objects= list , sets, dictionaries.\n",
    "\n",
    "\n",
    "\n",
    "#immutable objects: are those which cannot change their values after creation.\n",
    "#immutable object= strings, numbers, tuples.\n",
    "\n",
    "#example of mutable objects:\n",
    "#list\n",
    "\n",
    "lis1=[\"ravi\",\"anant\",\"avnish\",\"shubham\"]\n"
   ]
  },
  {
   "cell_type": "code",
   "execution_count": 5,
   "id": "845c0701-b7dd-4168-b047-f021005a69dc",
   "metadata": {},
   "outputs": [
    {
     "data": {
      "text/plain": [
       "['ravi', 'anant', 'avnish', 'shubham']"
      ]
     },
     "execution_count": 5,
     "metadata": {},
     "output_type": "execute_result"
    }
   ],
   "source": [
    "lis1"
   ]
  },
  {
   "cell_type": "code",
   "execution_count": 10,
   "id": "b5ec7d8a-5ffe-4a9c-a02d-9db2056e8be0",
   "metadata": {},
   "outputs": [],
   "source": [
    "lis1[0]=\"ashwin\""
   ]
  },
  {
   "cell_type": "code",
   "execution_count": 11,
   "id": "30c76889-0fb6-4d75-b153-57b95c1dc60a",
   "metadata": {},
   "outputs": [
    {
     "data": {
      "text/plain": [
       "['ashwin', 'anant', 'avnish', 'shubham']"
      ]
     },
     "execution_count": 11,
     "metadata": {},
     "output_type": "execute_result"
    }
   ],
   "source": [
    "lis1"
   ]
  },
  {
   "cell_type": "code",
   "execution_count": 13,
   "id": "79dac3b3-24aa-4734-8c90-f4d6f73f64a4",
   "metadata": {},
   "outputs": [
    {
     "data": {
      "text/plain": [
       "{12, 15, 35, 'anant', 'rahul'}"
      ]
     },
     "execution_count": 13,
     "metadata": {},
     "output_type": "execute_result"
    }
   ],
   "source": [
    "#sets\n",
    "\n",
    "s1={12,\"anant\",15,35,\"rahul\"}\n",
    "s1"
   ]
  },
  {
   "cell_type": "code",
   "execution_count": 14,
   "id": "53eda120-bb1f-4fa3-a18f-b646969a138e",
   "metadata": {},
   "outputs": [
    {
     "data": {
      "text/plain": [
       "set"
      ]
     },
     "execution_count": 14,
     "metadata": {},
     "output_type": "execute_result"
    }
   ],
   "source": [
    "type(s1)"
   ]
  },
  {
   "cell_type": "code",
   "execution_count": 15,
   "id": "aed52414-159f-42f6-8f72-c7b14f623453",
   "metadata": {},
   "outputs": [],
   "source": [
    "s1.add(100)"
   ]
  },
  {
   "cell_type": "code",
   "execution_count": 16,
   "id": "f01c5e5f-1dad-4335-b291-75364a3c16f0",
   "metadata": {},
   "outputs": [
    {
     "data": {
      "text/plain": [
       "{100, 12, 15, 35, 'anant', 'rahul'}"
      ]
     },
     "execution_count": 16,
     "metadata": {},
     "output_type": "execute_result"
    }
   ],
   "source": [
    "s1"
   ]
  },
  {
   "cell_type": "code",
   "execution_count": 17,
   "id": "5bcbe4cc-34e5-4cb0-bda6-f484a2afe33a",
   "metadata": {},
   "outputs": [
    {
     "data": {
      "text/plain": [
       "'anant'"
      ]
     },
     "execution_count": 17,
     "metadata": {},
     "output_type": "execute_result"
    }
   ],
   "source": [
    "s1.pop()"
   ]
  },
  {
   "cell_type": "code",
   "execution_count": 19,
   "id": "ddbaa6e4-920d-45af-99dd-324af07e2404",
   "metadata": {},
   "outputs": [],
   "source": [
    "s1.remove(\"rahul\")"
   ]
  },
  {
   "cell_type": "code",
   "execution_count": 20,
   "id": "0400449d-a2b5-4298-bdce-a81125298f02",
   "metadata": {},
   "outputs": [
    {
     "data": {
      "text/plain": [
       "{12, 15, 35, 100}"
      ]
     },
     "execution_count": 20,
     "metadata": {},
     "output_type": "execute_result"
    }
   ],
   "source": [
    "s1"
   ]
  },
  {
   "cell_type": "code",
   "execution_count": 1,
   "id": "973a678e-9d46-4382-9f45-5deb9eaba0d1",
   "metadata": {},
   "outputs": [],
   "source": [
    "#dictionarie\n",
    "\n",
    "\n",
    "details={\"name\":\"anant\",\"email\":\"anantjais5@gmail.com\",\"contact\":9170357263}\n",
    "         "
   ]
  },
  {
   "cell_type": "code",
   "execution_count": 2,
   "id": "f8866272-a19c-44b4-93ae-4800a252fb5a",
   "metadata": {},
   "outputs": [
    {
     "data": {
      "text/plain": [
       "{'name': 'anant', 'email': 'anantjais5@gmail.com', 'contact': 9170357263}"
      ]
     },
     "execution_count": 2,
     "metadata": {},
     "output_type": "execute_result"
    }
   ],
   "source": [
    "details"
   ]
  },
  {
   "cell_type": "code",
   "execution_count": 29,
   "id": "b0057a1b-e4e1-472e-b02e-3cd907425b52",
   "metadata": {},
   "outputs": [
    {
     "data": {
      "text/plain": [
       "dict"
      ]
     },
     "execution_count": 29,
     "metadata": {},
     "output_type": "execute_result"
    }
   ],
   "source": [
    "type(details)"
   ]
  },
  {
   "cell_type": "code",
   "execution_count": 31,
   "id": "13b4a659-ef99-4cf1-a33b-a5c01845c8da",
   "metadata": {},
   "outputs": [],
   "source": [
    "details[\"name\"]=\"rohit\""
   ]
  },
  {
   "cell_type": "code",
   "execution_count": 32,
   "id": "b4ae21be-f9ea-484e-b2fe-65fa91357e18",
   "metadata": {},
   "outputs": [],
   "source": [
    "details[\"email\"]=\"rohit52gmail.com\""
   ]
  },
  {
   "cell_type": "code",
   "execution_count": 33,
   "id": "41d232ca-b5cc-4b22-aa98-81d38bc0a7aa",
   "metadata": {},
   "outputs": [],
   "source": [
    "details[\"contact\"]=9415492634"
   ]
  },
  {
   "cell_type": "code",
   "execution_count": 34,
   "id": "5842b02d-3b20-43aa-9bb7-21acc4cedc2d",
   "metadata": {},
   "outputs": [
    {
     "data": {
      "text/plain": [
       "{'name': 'rohit', 'email': 'rohit52gmail.com', 'contact': 9415492634}"
      ]
     },
     "execution_count": 34,
     "metadata": {},
     "output_type": "execute_result"
    }
   ],
   "source": [
    "details"
   ]
  },
  {
   "cell_type": "code",
   "execution_count": 36,
   "id": "762e7810-710f-4153-b25b-6d9763c63e57",
   "metadata": {},
   "outputs": [],
   "source": [
    "#immutable objects.\n",
    "#strings,tuples,numbers \n",
    "#these all objects are immutable. we cannot change it after creation.\n",
    "\n",
    "\n",
    "\n"
   ]
  },
  {
   "cell_type": "code",
   "execution_count": 38,
   "id": "47511470-b4f2-4d77-a475-8cd786dd6550",
   "metadata": {},
   "outputs": [
    {
     "data": {
      "text/plain": [
       "7"
      ]
     },
     "execution_count": 38,
     "metadata": {},
     "output_type": "execute_result"
    }
   ],
   "source": [
    "#Discuss the different types of operators in Python and provide examples of how they are used?\n",
    "\n",
    "#there are 7 types of operators:\n",
    "\n",
    "#arithmetic operators.\n",
    "#comparison operators.\n",
    "#assigment operators.\n",
    "#logical operators.\n",
    "#bitwise operator.\n",
    "#identity operators.\n",
    "#membership operators.\n",
    "\n",
    "#example\n",
    "#arithmetic operators:(+,-,*,/,%,**)\n",
    "a=2+5\n",
    "a\n",
    "\n"
   ]
  },
  {
   "cell_type": "code",
   "execution_count": 41,
   "id": "f6583cf1-caa4-4d08-85ba-4e38e2bc8077",
   "metadata": {},
   "outputs": [
    {
     "data": {
      "text/plain": [
       "3"
      ]
     },
     "execution_count": 41,
     "metadata": {},
     "output_type": "execute_result"
    }
   ],
   "source": [
    "a=5-2\n",
    "a"
   ]
  },
  {
   "cell_type": "code",
   "execution_count": 42,
   "id": "cc3de3b7-725a-4626-9a08-3b1424859f5e",
   "metadata": {},
   "outputs": [
    {
     "data": {
      "text/plain": [
       "6"
      ]
     },
     "execution_count": 42,
     "metadata": {},
     "output_type": "execute_result"
    }
   ],
   "source": [
    "a=2*3\n",
    "a"
   ]
  },
  {
   "cell_type": "code",
   "execution_count": 43,
   "id": "a57d2325-086d-41fe-b954-4e73842cd6f2",
   "metadata": {},
   "outputs": [
    {
     "data": {
      "text/plain": [
       "5.0"
      ]
     },
     "execution_count": 43,
     "metadata": {},
     "output_type": "execute_result"
    }
   ],
   "source": [
    "a=15/3\n",
    "a"
   ]
  },
  {
   "cell_type": "code",
   "execution_count": 44,
   "id": "3163d2b7-9538-4dd1-bd3a-89fbd73415a2",
   "metadata": {},
   "outputs": [
    {
     "data": {
      "text/plain": [
       "1"
      ]
     },
     "execution_count": 44,
     "metadata": {},
     "output_type": "execute_result"
    }
   ],
   "source": [
    "a=16%3\n",
    "a"
   ]
  },
  {
   "cell_type": "code",
   "execution_count": 49,
   "id": "4b7982f0-62f8-42e7-a326-39827fa93088",
   "metadata": {},
   "outputs": [
    {
     "data": {
      "text/plain": [
       "32"
      ]
     },
     "execution_count": 49,
     "metadata": {},
     "output_type": "execute_result"
    }
   ],
   "source": [
    "a=2**5\n",
    "a"
   ]
  },
  {
   "cell_type": "code",
   "execution_count": null,
   "id": "c0a61ce7-eac5-4df6-8f88-85571320ebea",
   "metadata": {},
   "outputs": [],
   "source": []
  },
  {
   "cell_type": "code",
   "execution_count": 46,
   "id": "307c3433-9f77-4317-8d64-d461d1c0aa25",
   "metadata": {},
   "outputs": [
    {
     "data": {
      "text/plain": [
       "True"
      ]
     },
     "execution_count": 46,
     "metadata": {},
     "output_type": "execute_result"
    }
   ],
   "source": [
    "#comparison operators(<,>,==,>=,<=,!=)\n",
    "25>12"
   ]
  },
  {
   "cell_type": "code",
   "execution_count": 47,
   "id": "ec85bba8-d356-4720-8882-02117daf6b8d",
   "metadata": {},
   "outputs": [
    {
     "data": {
      "text/plain": [
       "False"
      ]
     },
     "execution_count": 47,
     "metadata": {},
     "output_type": "execute_result"
    }
   ],
   "source": [
    "25<20"
   ]
  },
  {
   "cell_type": "code",
   "execution_count": 48,
   "id": "1d58d971-4433-4dbc-898b-b07aa52e5e6d",
   "metadata": {},
   "outputs": [
    {
     "data": {
      "text/plain": [
       "True"
      ]
     },
     "execution_count": 48,
     "metadata": {},
     "output_type": "execute_result"
    }
   ],
   "source": [
    "25==25"
   ]
  },
  {
   "cell_type": "code",
   "execution_count": 3,
   "id": "f09f6ae9-a5ad-4851-b75f-c47b060a611d",
   "metadata": {},
   "outputs": [],
   "source": [
    "#assigment operators:(=,+=,-=,*=,/=,%=)\n",
    "x=5\n",
    "y=\"hello\"\n"
   ]
  },
  {
   "cell_type": "code",
   "execution_count": 5,
   "id": "2f428f28-ca52-48f4-a37b-83a58a111645",
   "metadata": {},
   "outputs": [],
   "source": [
    "x=5\n",
    "x+=3"
   ]
  },
  {
   "cell_type": "code",
   "execution_count": 6,
   "id": "166fb391-10e7-40b7-bc56-f6f2896c267e",
   "metadata": {},
   "outputs": [
    {
     "data": {
      "text/plain": [
       "8"
      ]
     },
     "execution_count": 6,
     "metadata": {},
     "output_type": "execute_result"
    }
   ],
   "source": [
    "x"
   ]
  },
  {
   "cell_type": "code",
   "execution_count": 9,
   "id": "cc1ce3a2-b746-4f26-a5f1-aeabc64a743a",
   "metadata": {},
   "outputs": [],
   "source": [
    "x=10\n",
    "x-=5"
   ]
  },
  {
   "cell_type": "code",
   "execution_count": 10,
   "id": "87acacd5-6dd1-4322-8782-c7b269e88502",
   "metadata": {},
   "outputs": [
    {
     "data": {
      "text/plain": [
       "5"
      ]
     },
     "execution_count": 10,
     "metadata": {},
     "output_type": "execute_result"
    }
   ],
   "source": [
    "x"
   ]
  },
  {
   "cell_type": "code",
   "execution_count": 11,
   "id": "0232c787-e45c-47e9-bd68-f06c0fe03c1e",
   "metadata": {},
   "outputs": [
    {
     "data": {
      "text/plain": [
       "50"
      ]
     },
     "execution_count": 11,
     "metadata": {},
     "output_type": "execute_result"
    }
   ],
   "source": [
    "x=10\n",
    "x*=5\n",
    "x"
   ]
  },
  {
   "cell_type": "code",
   "execution_count": 16,
   "id": "5b345396-3057-421a-8603-47bc5cfaf921",
   "metadata": {},
   "outputs": [
    {
     "data": {
      "text/plain": [
       "int"
      ]
     },
     "execution_count": 16,
     "metadata": {},
     "output_type": "execute_result"
    }
   ],
   "source": [
    "#explain the concept of type casting in Python with examples.\n",
    "\n",
    "\n",
    "\n",
    "#type casting: is refere to the conversio of one data to another data type witout explict instruction.\n",
    "a=25\n",
    "b=35\n",
    "type (a)\n"
   ]
  },
  {
   "cell_type": "code",
   "execution_count": 17,
   "id": "bf06257f-4e09-473a-9419-fdb402f538ca",
   "metadata": {},
   "outputs": [
    {
     "data": {
      "text/plain": [
       "int"
      ]
     },
     "execution_count": 17,
     "metadata": {},
     "output_type": "execute_result"
    }
   ],
   "source": [
    "type(b)"
   ]
  },
  {
   "cell_type": "code",
   "execution_count": 25,
   "id": "bdd3ae51-448e-4189-85f3-40e866710e20",
   "metadata": {},
   "outputs": [
    {
     "name": "stdout",
     "output_type": "stream",
     "text": [
      "60.0\n"
     ]
    }
   ],
   "source": [
    "ab=float(a) + int(b)\n",
    "print(ab)"
   ]
  },
  {
   "cell_type": "code",
   "execution_count": 26,
   "id": "51f98db5-e01d-4c56-8bbf-7c56e55f7187",
   "metadata": {},
   "outputs": [
    {
     "data": {
      "text/plain": [
       "float"
      ]
     },
     "execution_count": 26,
     "metadata": {},
     "output_type": "execute_result"
    }
   ],
   "source": [
    "type(ab)"
   ]
  },
  {
   "cell_type": "code",
   "execution_count": 27,
   "id": "60c62348-344c-4136-9b07-0258cd3e2246",
   "metadata": {},
   "outputs": [],
   "source": [
    "a=21.52\n",
    "b=21.55\n",
    "ab=int(a)+int(b)"
   ]
  },
  {
   "cell_type": "code",
   "execution_count": 28,
   "id": "fd257170-bc2a-4b00-b83f-fe3badb8f676",
   "metadata": {},
   "outputs": [
    {
     "data": {
      "text/plain": [
       "float"
      ]
     },
     "execution_count": 28,
     "metadata": {},
     "output_type": "execute_result"
    }
   ],
   "source": [
    "type(a)"
   ]
  },
  {
   "cell_type": "code",
   "execution_count": 29,
   "id": "5e9d1d01-0f3b-4c97-9015-ab40acf0dace",
   "metadata": {},
   "outputs": [
    {
     "data": {
      "text/plain": [
       "float"
      ]
     },
     "execution_count": 29,
     "metadata": {},
     "output_type": "execute_result"
    }
   ],
   "source": [
    "type(b)"
   ]
  },
  {
   "cell_type": "code",
   "execution_count": 30,
   "id": "e35ebb21-69c5-4a88-831c-0566ab715f17",
   "metadata": {},
   "outputs": [
    {
     "data": {
      "text/plain": [
       "int"
      ]
     },
     "execution_count": 30,
     "metadata": {},
     "output_type": "execute_result"
    }
   ],
   "source": [
    "type(ab)"
   ]
  },
  {
   "cell_type": "code",
   "execution_count": 31,
   "id": "d2ae5a77-b823-499f-8e25-3e438b12a312",
   "metadata": {},
   "outputs": [
    {
     "name": "stdout",
     "output_type": "stream",
     "text": [
      "42\n"
     ]
    }
   ],
   "source": [
    "print(ab)"
   ]
  },
  {
   "cell_type": "code",
   "execution_count": 32,
   "id": "fe925db0-c244-4f94-86b5-6deb81e280d7",
   "metadata": {},
   "outputs": [],
   "source": [
    "x=(1,2,3)\n",
    "y=list(x)"
   ]
  },
  {
   "cell_type": "code",
   "execution_count": 33,
   "id": "97fdfdd9-1457-47b3-b694-1b3c42669667",
   "metadata": {},
   "outputs": [
    {
     "data": {
      "text/plain": [
       "tuple"
      ]
     },
     "execution_count": 33,
     "metadata": {},
     "output_type": "execute_result"
    }
   ],
   "source": [
    "type(x)"
   ]
  },
  {
   "cell_type": "code",
   "execution_count": 34,
   "id": "e2d6f28e-ad49-4f4a-a553-f99c806851a0",
   "metadata": {},
   "outputs": [
    {
     "data": {
      "text/plain": [
       "list"
      ]
     },
     "execution_count": 34,
     "metadata": {},
     "output_type": "execute_result"
    }
   ],
   "source": [
    "type(y)"
   ]
  },
  {
   "cell_type": "code",
   "execution_count": 35,
   "id": "b804f688-0020-4714-84d2-53a81cd3c508",
   "metadata": {},
   "outputs": [
    {
     "data": {
      "text/plain": [
       "[1, 2, 3]"
      ]
     },
     "execution_count": 35,
     "metadata": {},
     "output_type": "execute_result"
    }
   ],
   "source": [
    "y"
   ]
  },
  {
   "cell_type": "code",
   "execution_count": 41,
   "id": "06a9fc93-a2b0-4332-a4df-fc2c43f098c2",
   "metadata": {},
   "outputs": [
    {
     "name": "stdout",
     "output_type": "stream",
     "text": [
      "yes it is greater than a\n"
     ]
    }
   ],
   "source": [
    "#How do conditional statements work in Python? Illustrate with examples.\n",
    "\n",
    "#executing the condition in a block of code based on wheather the condition is true or false.\n",
    "\n",
    "\n",
    "a=25\n",
    "if a<=35:\n",
    "    print(\"yes it is greater than a\")\n",
    "else:\n",
    "    print(\"no it is not greater than a\")"
   ]
  },
  {
   "cell_type": "code",
   "execution_count": 43,
   "id": "5e4f2cd9-8013-4153-bada-da1ea109438b",
   "metadata": {},
   "outputs": [
    {
     "name": "stdout",
     "output_type": "stream",
     "text": [
      "no it is not greater than a\n"
     ]
    }
   ],
   "source": [
    "a=25\n",
    "if a>=35:\n",
    "    print(\"yes it is greater than a\")\n",
    "else:\n",
    "    print(\"no it is not greater than a\")"
   ]
  },
  {
   "cell_type": "code",
   "execution_count": 45,
   "id": "63da5267-ab29-460b-a722-49b8b507fc38",
   "metadata": {},
   "outputs": [
    {
     "name": "stdout",
     "output_type": "stream",
     "text": [
      "['apple', 'banana', 'mango', 'avacado']\n",
      "['apple', 'banana', 'mango', 'avacado']\n",
      "['apple', 'banana', 'mango', 'avacado']\n",
      "['apple', 'banana', 'mango', 'avacado']\n"
     ]
    }
   ],
   "source": [
    "#Describe the different types of loops in Python and their use cases with examples.\n",
    "#there three types of loops in python: for loops, while loop , nested loops.\n",
    "#for loops:for loops itterate over a sequence i list tuple dict set or string and excute the block of code each time in a sequence.\n",
    "\n",
    "\n",
    "fruits=[\"apple\",\"banana\",\"mango\",\"avacado\"]\n",
    "for fruit in fruits:\n",
    "    print(fruits)"
   ]
  },
  {
   "cell_type": "code",
   "execution_count": 48,
   "id": "f6b292f5-21a3-4a04-ab35-476251291b14",
   "metadata": {},
   "outputs": [
    {
     "name": "stdout",
     "output_type": "stream",
     "text": [
      "h\n",
      "e\n",
      "l\n",
      "l\n",
      "o\n"
     ]
    }
   ],
   "source": [
    "for char in \"hello\":\n",
    "    print(char)\n"
   ]
  },
  {
   "cell_type": "code",
   "execution_count": 2,
   "id": "6235b861-5cbe-45b6-a902-3dd410a1dc21",
   "metadata": {},
   "outputs": [
    {
     "name": "stdout",
     "output_type": "stream",
     "text": [
      "10\n",
      "11\n",
      "12\n"
     ]
    }
   ],
   "source": [
    "#while loop: repeats the block of  code until the codition is true.\n",
    "num=10\n",
    "while num < 13:\n",
    "    print(num)\n",
    "    num+=1\n",
    "    "
   ]
  }
 ],
 "metadata": {
  "kernelspec": {
   "display_name": "Python 3 (ipykernel)",
   "language": "python",
   "name": "python3"
  },
  "language_info": {
   "codemirror_mode": {
    "name": "ipython",
    "version": 3
   },
   "file_extension": ".py",
   "mimetype": "text/x-python",
   "name": "python",
   "nbconvert_exporter": "python",
   "pygments_lexer": "ipython3",
   "version": "3.10.8"
  }
 },
 "nbformat": 4,
 "nbformat_minor": 5
}
